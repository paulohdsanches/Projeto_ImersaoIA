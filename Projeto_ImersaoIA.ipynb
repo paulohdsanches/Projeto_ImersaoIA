{
  "nbformat": 4,
  "nbformat_minor": 0,
  "metadata": {
    "colab": {
      "provenance": [],
      "authorship_tag": "ABX9TyOB0rA57tl7N6Fy2uCmPrFr",
      "include_colab_link": true
    },
    "kernelspec": {
      "name": "python3",
      "display_name": "Python 3"
    },
    "language_info": {
      "name": "python"
    }
  },
  "cells": [
    {
      "cell_type": "markdown",
      "metadata": {
        "id": "view-in-github",
        "colab_type": "text"
      },
      "source": [
        "<a href=\"https://colab.research.google.com/github/paulohdsanches/Projeto_ImersaoIA/blob/main/Projeto_ImersaoIA.ipynb\" target=\"_parent\"><img src=\"https://colab.research.google.com/assets/colab-badge.svg\" alt=\"Open In Colab\"/></a>"
      ]
    },
    {
      "cell_type": "code",
      "execution_count": null,
      "metadata": {
        "id": "AhQUAvWyccqa"
      },
      "outputs": [],
      "source": [
        "# Instalando SDK do Google\n",
        "!pip install -q -U google-generativeai"
      ]
    },
    {
      "cell_type": "code",
      "source": [
        "# Importando bibliotecas básicas\n",
        "import pathlib\n",
        "import textwrap\n",
        "\n",
        "import google.generativeai as genai\n",
        "\n",
        "from IPython.display import display\n",
        "from IPython.display import Markdown\n",
        "\n",
        "def to_markdown(text):\n",
        "  text = text.replace('•', '  *')\n",
        "  return Markdown(textwrap.indent(text, '> ', predicate=lambda _: True))\n",
        "\n",
        "\n"
      ],
      "metadata": {
        "id": "YoT2VXVKedkV"
      },
      "execution_count": 2,
      "outputs": []
    },
    {
      "cell_type": "code",
      "source": [
        "# Utilizado para armazenar sua chave API com segurança\n",
        "from google.colab import userdata"
      ],
      "metadata": {
        "id": "-tikvwF8epy2"
      },
      "execution_count": null,
      "outputs": []
    },
    {
      "cell_type": "code",
      "source": [
        "# Setando minha API Key pessoal (não compartilhar)\n",
        "GOOGLE_API_KEY=\"My_Key\"\n",
        "\n",
        "genai.configure(api_key=GOOGLE_API_KEY)"
      ],
      "metadata": {
        "id": "oFsXT1oueDqU"
      },
      "execution_count": 3,
      "outputs": []
    },
    {
      "cell_type": "code",
      "source": [
        "#Listando os modelos do gemini disponíveis\n",
        "for m in genai.list_models():\n",
        "  if 'generateContent' in m.supported_generation_methods:\n",
        "    print(m.name)"
      ],
      "metadata": {
        "colab": {
          "base_uri": "https://localhost:8080/",
          "height": 139
        },
        "id": "Jor2cJEhfsLI",
        "outputId": "d1fa4101-2def-4e9e-c916-91e6cdacc5de"
      },
      "execution_count": null,
      "outputs": [
        {
          "output_type": "stream",
          "name": "stdout",
          "text": [
            "models/gemini-1.0-pro\n",
            "models/gemini-1.0-pro-001\n",
            "models/gemini-1.0-pro-latest\n",
            "models/gemini-1.0-pro-vision-latest\n",
            "models/gemini-1.5-pro-latest\n",
            "models/gemini-pro\n",
            "models/gemini-pro-vision\n"
          ]
        }
      ]
    },
    {
      "cell_type": "code",
      "source": [
        "#Configurando parâmetros do modelo (Temperatura, Top K, Top P, etc...)\n",
        "generation_config= {\n",
        "    \"candidate_count\": 1,\n",
        "    \"temperature\": 0.5,\n",
        "}"
      ],
      "metadata": {
        "id": "wT2y4RxXfu3v"
      },
      "execution_count": null,
      "outputs": []
    },
    {
      "cell_type": "code",
      "source": [
        "#Configurações de segurança do modelo\n",
        "safety_settings= {\n",
        "    \"Harassment\": \"BLOCK_NONE\",\n",
        "    \"Hate\": \"BLOCK_NONE\",\n",
        "    \"Sexual\": \"BLOCK_NONE\",\n",
        "    \"Dangerous\": \"BLOCK_NONE\",\n",
        "}"
      ],
      "metadata": {
        "id": "UoxRhH7Rhtpt"
      },
      "execution_count": null,
      "outputs": []
    },
    {
      "cell_type": "code",
      "source": [
        "#Inicializando o modelo\n",
        "model = genai.GenerativeModel(\n",
        "    model_name=\"gemini-1.0-pro\",\n",
        "    generation_config=generation_config,\n",
        "    safety_settings=safety_settings\n",
        ")"
      ],
      "metadata": {
        "id": "aLXiB31smwfZ"
      },
      "execution_count": null,
      "outputs": []
    },
    {
      "cell_type": "code",
      "source": [
        "#Respostas\n",
        "response = model.generate_content(\"Vamos aprender conteúdo sobre IA. Me dê sugestões.\")\n",
        "print(response.text)"
      ],
      "metadata": {
        "colab": {
          "base_uri": "https://localhost:8080/",
          "height": 729
        },
        "id": "BMNc-Xy_AKOK",
        "outputId": "28bdc591-6b36-481b-8f4b-f3c4b861dee0"
      },
      "execution_count": null,
      "outputs": [
        {
          "output_type": "stream",
          "name": "stdout",
          "text": [
            "**Introdução à Inteligência Artificial (IA)**\n",
            "\n",
            "* Definição e histórico da IA\n",
            "* Tipos de IA: IA estreita, IA geral e superinteligência\n",
            "* Aplicações da IA em vários setores\n",
            "\n",
            "**Aprendizado de Máquina (ML)**\n",
            "\n",
            "* Conceitos básicos de ML: dados, modelos e treinamento\n",
            "* Tipos de algoritmos de ML: aprendizagem supervisionada, não supervisionada e por reforço\n",
            "* Avaliação e otimização de modelos de ML\n",
            "\n",
            "**Aprendizado Profundo (DL)**\n",
            "\n",
            "* Arquiteturas de redes neurais: redes neurais convolucionais (CNNs), redes neurais recorrentes (RNNs)\n",
            "* Técnicas de treinamento para DL: propagação reversa, otimização de gradiente\n",
            "* Aplicações de DL: reconhecimento de imagem, processamento de linguagem natural\n",
            "\n",
            "**Processamento de Linguagem Natural (PNL)**\n",
            "\n",
            "* Conceitos básicos de PNL: tokenização, análise sintática, análise semântica\n",
            "* Técnicas de PNL: modelagem de tópicos, classificação de texto, geração de linguagem\n",
            "* Aplicações de PNL: chatbots, tradução automática\n",
            "\n",
            "**Visão Computacional**\n",
            "\n",
            "* Conceitos básicos de visão computacional: processamento de imagem, detecção de objetos\n",
            "* Técnicas de visão computacional: redes neurais convolucionais, reconhecimento de padrões\n",
            "* Aplicações de visão computacional: veículos autônomos, reconhecimento facial\n",
            "\n",
            "**Ética e Implicações Sociais da IA**\n",
            "\n",
            "* Preocupações éticas com a IA: viés, privacidade, desemprego\n",
            "* Implicações sociais da IA: automação, mudanças no mercado de trabalho\n",
            "* Diretrizes éticas para o desenvolvimento e uso responsável da IA\n",
            "\n",
            "**Recursos Adicionais**\n",
            "\n",
            "* Cursos online: Coursera, edX, Udacity\n",
            "* Livros: \"Inteligência Artificial: Um Guia Moderno\" por Stuart Russell e Peter Norvig, \"Aprendizado de Máquina\" por Ethem Alpaydin\n",
            "* Artigos de pesquisa: arXiv, Google Scholar\n"
          ]
        }
      ]
    },
    {
      "cell_type": "code",
      "source": [
        "#Criando variável chat\n",
        "chat = model.start_chat(history=[])"
      ],
      "metadata": {
        "id": "3zlJG2SlAnja"
      },
      "execution_count": null,
      "outputs": []
    },
    {
      "cell_type": "code",
      "source": [
        "#Criando o próprio prompt\n",
        "prompt = input(\"Esperando prompt: \")\n",
        "\n",
        "while prompt != \"fim\":\n",
        "  response = chat.send_message(prompt)\n",
        "  print(\"Resposta: \", response.text, \"\\n\")\n",
        "  prompt = input(\"Esperando prompt: \")\n",
        "\n"
      ],
      "metadata": {
        "colab": {
          "base_uri": "https://localhost:8080/",
          "height": 243
        },
        "id": "wpWtlrhXDWb7",
        "outputId": "16f2fd53-e7ad-4076-a9e8-8bc618512ce2"
      },
      "execution_count": null,
      "outputs": [
        {
          "name": "stdout",
          "output_type": "stream",
          "text": [
            "Esperando prompt: qual é a capital do japão?\n",
            "Resposta:  Tóquio \n",
            "\n",
            "Esperando prompt: qual é a comida típica desse país?\n",
            "Resposta:  Sushi \n",
            "\n",
            "Esperando prompt: meu primo nasceu nessa cidade, qual é a nacionalidade dele?\n",
            "Resposta:  Japonesa \n",
            "\n",
            "Esperando prompt: qual é a população dessa cidade?\n",
            "Resposta:  13.960.236 (2021) \n",
            "\n",
            "Esperando prompt: fim\n"
          ]
        }
      ]
    },
    {
      "cell_type": "code",
      "source": [
        "#Imprimindo o histórico\n",
        "\n",
        "for message in chat.history:\n",
        "  display(to_markdown(f'**{message.role}**: {message.parts[0].text}'))\n",
        "  print('--------------------------------')"
      ],
      "metadata": {
        "colab": {
          "base_uri": "https://localhost:8080/",
          "height": 519
        },
        "id": "KHRa1vaqDkMl",
        "outputId": "b2ae2bd6-fa17-447e-d21f-e040e910b633"
      },
      "execution_count": null,
      "outputs": [
        {
          "output_type": "display_data",
          "data": {
            "text/plain": [
              "<IPython.core.display.Markdown object>"
            ],
            "text/markdown": "> **user**: qual é a capital do japão?"
          },
          "metadata": {}
        },
        {
          "output_type": "stream",
          "name": "stdout",
          "text": [
            "--------------------------------\n"
          ]
        },
        {
          "output_type": "display_data",
          "data": {
            "text/plain": [
              "<IPython.core.display.Markdown object>"
            ],
            "text/markdown": "> **model**: Tóquio"
          },
          "metadata": {}
        },
        {
          "output_type": "stream",
          "name": "stdout",
          "text": [
            "--------------------------------\n"
          ]
        },
        {
          "output_type": "display_data",
          "data": {
            "text/plain": [
              "<IPython.core.display.Markdown object>"
            ],
            "text/markdown": "> **user**: qual é a comida típica desse país?"
          },
          "metadata": {}
        },
        {
          "output_type": "stream",
          "name": "stdout",
          "text": [
            "--------------------------------\n"
          ]
        },
        {
          "output_type": "display_data",
          "data": {
            "text/plain": [
              "<IPython.core.display.Markdown object>"
            ],
            "text/markdown": "> **model**: Sushi"
          },
          "metadata": {}
        },
        {
          "output_type": "stream",
          "name": "stdout",
          "text": [
            "--------------------------------\n"
          ]
        },
        {
          "output_type": "display_data",
          "data": {
            "text/plain": [
              "<IPython.core.display.Markdown object>"
            ],
            "text/markdown": "> **user**: meu primo nasceu nessa cidade, qual é a nacionalidade dele?"
          },
          "metadata": {}
        },
        {
          "output_type": "stream",
          "name": "stdout",
          "text": [
            "--------------------------------\n"
          ]
        },
        {
          "output_type": "display_data",
          "data": {
            "text/plain": [
              "<IPython.core.display.Markdown object>"
            ],
            "text/markdown": "> **model**: Japonesa"
          },
          "metadata": {}
        },
        {
          "output_type": "stream",
          "name": "stdout",
          "text": [
            "--------------------------------\n"
          ]
        },
        {
          "output_type": "display_data",
          "data": {
            "text/plain": [
              "<IPython.core.display.Markdown object>"
            ],
            "text/markdown": "> **user**: qual é a população dessa cidade?"
          },
          "metadata": {}
        },
        {
          "output_type": "stream",
          "name": "stdout",
          "text": [
            "--------------------------------\n"
          ]
        },
        {
          "output_type": "display_data",
          "data": {
            "text/plain": [
              "<IPython.core.display.Markdown object>"
            ],
            "text/markdown": "> **model**: 13.960.236 (2021)"
          },
          "metadata": {}
        },
        {
          "output_type": "stream",
          "name": "stdout",
          "text": [
            "--------------------------------\n"
          ]
        }
      ]
    }
  ]
}